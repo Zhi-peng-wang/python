{
 "cells": [
  {
   "cell_type": "code",
   "execution_count": 1,
   "metadata": {},
   "outputs": [
    {
     "name": "stdout",
     "output_type": "stream",
     "text": [
      "hello world\n"
     ]
    }
   ],
   "source": [
    "print(\"hello world\")"
   ]
  },
  {
   "cell_type": "markdown",
   "metadata": {},
   "source": [
    "# 变量\n",
    "- 程序=数据结构+算法\n",
    "- 变量就是可以重复使用的一个两，或者叫一个代号\n",
    "- 变量命名规则\n",
    "    - 变量名可以包含数字，大小写字母，下划线或者更多，但是不推荐除了前三种的符号\n",
    "    - 数字不可以打头\n",
    "        - 4man，是不可以的\n",
    "        - man4是可以的\n",
    "    - 一般在Python中，以下划线开头的内容具有特殊含义，不建议使用\n",
    "        - 比如 _age,_name,理论可以，但强烈不推荐，包括但不限于一个下划线开头和俩个连续下划线开头\n",
    "    - 大小写不一样，俗称大小写敏感\n",
    "        - ForMan和forman不是一个变量名称\n",
    "    - 推荐：\n",
    "        - 使用具有固定含义的英文单词或则缩写，srv=server  skt=socket,一般以posix命名规则为主\n",
    "        - 驼峰命名法\n",
    "            - 大驼峰，每个单词第一个字母均为大写\n",
    "                - 在Python中给类命名使用此法\n",
    "                - MyFirstLove,IntOne\n",
    "            - 小驼峰，类似于大驼峰，但第一个字母小写\n",
    "                - 在Python中一般给普通变量或者函数命名\n",
    "                - myFirstLove,inOne\n",
    "            - posix写法\n",
    "                - 多个单词用下划线链接\n",
    "                - 单词全部小写\n",
    "                - my_first_love in_one\n",
    "    - 保留字和关键字\n",
    "        - 变量命名必须避开，不能跟关键字和保留字重复\n",
    "        - class,def,break,for"
   ]
  },
  {
   "cell_type": "code",
   "execution_count": 2,
   "metadata": {},
   "outputs": [
    {
     "name": "stdout",
     "output_type": "stream",
     "text": [
      "['False', 'None', 'True', 'and', 'as', 'assert', 'break', 'class', 'continue', 'def', 'del', 'elif', 'else', 'except', 'finally', 'for', 'from', 'global', 'if', 'import', 'in', 'is', 'lambda', 'nonlocal', 'not', 'or', 'pass', 'raise', 'return', 'try', 'while', 'with', 'yield']\n"
     ]
    }
   ],
   "source": [
    "#查看关键字的方法\n",
    "import keyword #引入关键字模块\n",
    "#打印出系统全部关键字\n",
    "print(keyword.kwlist)"
   ]
  },
  {
   "cell_type": "code",
   "execution_count": 10,
   "metadata": {},
   "outputs": [
    {
     "name": "stdout",
     "output_type": "stream",
     "text": [
      "18\n",
      "18\n",
      "********************\n",
      "18\n",
      "18\n",
      "18\n",
      "********************\n",
      "12\n",
      "35\n",
      "26\n"
     ]
    }
   ],
   "source": [
    "# 定义变量age 把18放入变量age中\n",
    "age = 18\n",
    "print(age)\n",
    "print(18)\n",
    "print(\"*\"*20)\n",
    "\n",
    "# 给age1 age2 age3 放入同样一个内容或值\n",
    "age1 = age2 = age3 = 18\n",
    "print(age1)\n",
    "print(age2)\n",
    "print(age3)\n",
    "print(\"*\"*20)\n",
    "\n",
    "#一行内给多个变量赋值\n",
    "age4, age5, age6 = 12, 35 ,26\n",
    "print(age4)\n",
    "print(age5)\n",
    "\n",
    "print(age6)\n"
   ]
  },
  {
   "cell_type": "markdown",
   "metadata": {},
   "source": [
    "## 变量类型\n",
    "- 严格意义上讲，Python只有一个\n",
    "- 标准数据类型一共六种\n",
    "    - 数字类型Number\n",
    "    - 字符串类型str\n",
    "    - 列表list\n",
    "    - 元祖tuple\n",
    "    - 字典Dictionary\n",
    "    - 集合 set"
   ]
  },
  {
   "cell_type": "markdown",
   "metadata": {},
   "source": [
    "## 整数类型Number\n",
    "- 数字类型没有大小限制\n",
    "### 整数\n",
    "- 没有小数部分，表示个数的数字\n",
    "- 自然数，0 ，负自然数\n",
    "- 整数分进制\n",
    "    - 二进制\n",
    "        - 计算机常用\n",
    "        - 是计算机唯一能直接理解的数字\n",
    "        - 表示为0b开头的0,1代码\n",
    "        - 例如 0b1101,0b10001‘\n",
    "    - 八进制\n",
    "        - 不常用\n",
    "        - 以0o开头的包含0-7数字\n",
    "    - 十六进制\n",
    "        - 逢16进1\n",
    "        - 其实是每四位二进制表示一位十六进制数\n",
    "        - 包含0-9，a-f\n",
    "        - 数字以上以0x开头表示\n",
    "     - 十进制\n",
    "         - 18,20,198"
   ]
  },
  {
   "cell_type": "code",
   "execution_count": 14,
   "metadata": {},
   "outputs": [
    {
     "name": "stdout",
     "output_type": "stream",
     "text": [
      "18\n",
      "18\n",
      "66\n",
      "255\n"
     ]
    }
   ],
   "source": [
    "age = 18\n",
    "print(18)\n",
    "\n",
    "age = 0b10010\n",
    "print(age)\n",
    "\n",
    "age  = 0o102\n",
    "print(age)\n",
    "\n",
    "age = 0xff #十六进制ff表示二进制的1111 1111\n",
    "print(age)"
   ]
  },
  {
   "cell_type": "markdown",
   "metadata": {},
   "source": [
    "### 浮点数\n",
    "- 小数\n",
    "- 计算机里边表示浮点数可以有条件省略\n",
    "- 3.1415\n",
    "- 3.   省略的写法\n",
    "- 0.5\n",
    "- .5   省略的写法\n",
    "- 科学计数法\n",
    "    - 定义跟数学定义\n",
    "    - 写法是用e/E后面跟整数表示10的指数\n",
    "    - 176.32 = 1.7632e2\n",
    "    - 0.1243 = 1.243-1"
   ]
  },
  {
   "cell_type": "code",
   "execution_count": 17,
   "metadata": {},
   "outputs": [
    {
     "name": "stdout",
     "output_type": "stream",
     "text": [
      "162.2\n",
      "0.2\n"
     ]
    }
   ],
   "source": [
    "height = 162.2\n",
    "print(height)\n",
    "\n",
    "shili = .2\n",
    "print(shili)"
   ]
  },
  {
   "cell_type": "markdown",
   "metadata": {},
   "source": [
    "### 复数complex\n",
    "- 定义同数学定义一致\n",
    "- 一个由实部和虚部构成的数字\n",
    "- 虚部用j/J表示\n",
    "- 5+3j\n",
    "- 3j\n",
    "- (3j)"
   ]
  },
  {
   "cell_type": "markdown",
   "metadata": {},
   "source": [
    "### 布尔值\n",
    "- 表示真假的值\n",
    "- 只有俩个值，True/False\n",
    "- 布尔值可以跟数字直接操作\n",
    "    - True表示1\n",
    "    - False表示0"
   ]
  },
  {
   "cell_type": "code",
   "execution_count": 18,
   "metadata": {},
   "outputs": [
    {
     "name": "stdout",
     "output_type": "stream",
     "text": [
      "19\n"
     ]
    }
   ],
   "source": [
    "#布尔值操作\n",
    "age = 18 + True\n",
    "print(age)"
   ]
  },
  {
   "cell_type": "markdown",
   "metadata": {},
   "source": [
    "## 字符串\n",
    "- 用来表示一串文字信息\n",
    "- 如何表示\n",
    "    - 单引号\n",
    "    - 双引号 \n",
    "    - 三引号\n",
    "        - 能够扩起多行信息\n",
    "- 单双引号交替使用"
   ]
  },
  {
   "cell_type": "code",
   "execution_count": 24,
   "metadata": {},
   "outputs": [
    {
     "name": "stdout",
     "output_type": "stream",
     "text": [
      " i love phython\n",
      "我爱Python\n",
      "<a style=\"color:red\">hello</a>\n",
      "\n",
      "i love phython\n",
      "我爱Python\n",
      "<a style=\"color:red\">hello</a>\n",
      "\n"
     ]
    }
   ],
   "source": [
    "love = \" i love phython\"\n",
    "print(love)\n",
    "\n",
    "love = \"我爱Python\"\n",
    "print(love)\n",
    "\n",
    "#单双引号交替使用的例子\n",
    "#<a style=\"color:red\">hello</a>\n",
    "#用引号表示上面字符串\n",
    "html = '<a style=\"color:red\">hello</a>'\n",
    "print(html)\n",
    "\n",
    "htmls = \"\"\"\n",
    "i love phython\n",
    "我爱Python\n",
    "<a style=\"color:red\">hello</a>\n",
    "\"\"\"\n",
    "\n",
    "print(htmls)"
   ]
  },
  {
   "cell_type": "code",
   "execution_count": null,
   "metadata": {
    "collapsed": true
   },
   "outputs": [],
   "source": []
  },
  {
   "cell_type": "code",
   "execution_count": null,
   "metadata": {
    "collapsed": true
   },
   "outputs": [],
   "source": []
  }
 ],
 "metadata": {
  "kernelspec": {
   "display_name": "Python 3",
   "language": "python",
   "name": "python3"
  },
  "language_info": {
   "codemirror_mode": {
    "name": "ipython",
    "version": 3
   },
   "file_extension": ".py",
   "mimetype": "text/x-python",
   "name": "python",
   "nbconvert_exporter": "python",
   "pygments_lexer": "ipython3",
   "version": "3.6.3"
  }
 },
 "nbformat": 4,
 "nbformat_minor": 2
}
