{
 "cells": [
  {
   "cell_type": "markdown",
   "metadata": {},
   "source": [
    "# 三大结构\n",
    "- 顺序\n",
    "- 分支\n",
    "- 循环"
   ]
  },
  {
   "cell_type": "markdown",
   "metadata": {},
   "source": [
    "## 分支\n",
    "- 分支的基本语法\n",
    "           \n",
    "           if 条件表达式:\n",
    "               语句1\n",
    "               语句2\n",
    "               语句3\n",
    "               ......\n",
    "- 条件表达式就是计算结果必须为布尔值的表达式\n",
    "- 表达式后面的冒号不能少\n",
    "- 注意if后面的出现的语句，如果属于if语句块，则必须是同一个缩进等级\n",
    "- 条件表达式结果为True执行if后面的缩进的语句块\n"
   ]
  },
  {
   "cell_type": "code",
   "execution_count": 2,
   "metadata": {},
   "outputs": [
    {
     "name": "stdout",
     "output_type": "stream",
     "text": [
      "未成年\n",
      "17\n"
     ]
    }
   ],
   "source": [
    "# if语句联系\n",
    "# 如果age小于18岁，则打印信息“未成年”\n",
    "age = 17\n",
    "if age <= 18:\n",
    "    print(\"未成年\")\n",
    "    print(age)"
   ]
  },
  {
   "cell_type": "code",
   "execution_count": 3,
   "metadata": {},
   "outputs": [
    {
     "name": "stdout",
     "output_type": "stream",
     "text": [
      "未成年\n",
      "17\n",
      "什么都没有\n"
     ]
    }
   ],
   "source": [
    "# if语句联系\n",
    "# 如果age小于18岁，则打印信息“未成年”\n",
    "age = 17\n",
    "if age <= 18:\n",
    "    print(\"未成年\")\n",
    "    print(age)\n",
    "print(\"什么都没有\")"
   ]
  },
  {
   "cell_type": "code",
   "execution_count": null,
   "metadata": {
    "collapsed": true
   },
   "outputs": [],
   "source": [
    "print"
   ]
  },
  {
   "cell_type": "markdown",
   "metadata": {},
   "source": [
    "### 双向分支\n",
    "- if...else...语句\n",
    "        \n",
    "        if 条件表示:\n",
    "            语句1\n",
    "            语句2\n",
    "            ....\n",
    "        else :\n",
    "            语句1\n",
    "            语句2\n",
    "            ....\n",
    "- 双向分支有俩个分支，当程序执行到if...else...语句的时候，一定会吃性if或者else中的语句之一\n",
    "- 缩进问题，if和else一个层级，其余语句一个层级"
   ]
  },
  {
   "cell_type": "code",
   "execution_count": 8,
   "metadata": {},
   "outputs": [
    {
     "name": "stdout",
     "output_type": "stream",
     "text": [
      "请输入你的性别！男\n",
      "你输入的性别是男\n",
      "boy\n",
      "总会打印这句话\n"
     ]
    }
   ],
   "source": [
    "#input的作用\n",
    "#1.在屏幕上输出括号内的字符串\n",
    "#2.接收用户输入的内容并返回到程序\n",
    "#3.input返回的内容一定是字符串类型\n",
    "sex = input(\"请输入你的性别！\")\n",
    "print(\"你输入的性别是{0}\".format(sex))\n",
    "\n",
    "if sex == \"男\":\n",
    "    print(\"boy\")\n",
    "else:\n",
    "    print(\"girl\")\n",
    "\n",
    "print(\"总会打印这句话\")"
   ]
  },
  {
   "cell_type": "code",
   "execution_count": 32,
   "metadata": {},
   "outputs": [
    {
     "name": "stdout",
     "output_type": "stream",
     "text": [
      "请输入考试成绩：85\n",
      "良好\n"
     ]
    }
   ],
   "source": [
    "# 考试成绩\n",
    "#９０以上：输出优秀\n",
    "# 90以下：不优秀\n",
    "#　input的返回值类型，一定是str\n",
    "score = input(\"请输入考试成绩：\")\n",
    "#把str转换成int\n",
    "#强制转型\n",
    "score = int(score)\n",
    "if score >= 90:\n",
    "    print(\"优秀\")\n",
    "if score >= 80 and score <90:\n",
    "    print(\"良好\")\n",
    "if score < 60:\n",
    "    print(\"不是优秀\")\n"
   ]
  },
  {
   "cell_type": "markdown",
   "metadata": {},
   "source": [
    "## 多项分支\n",
    "- 很多分支的情况，简称多路分支\n",
    "        \n",
    "        if 条件表达式:\n",
    "            语句１\n",
    "            ...\n",
    "        elif 条件表达式:\n",
    "            语句１\n",
    "            ...\n",
    "        elif 条件表达式:\n",
    "            语句１\n",
    "            ...\n",
    "        \n",
    "        .......\n",
    "        else:\n",
    "            语句１\n",
    "            ....\n",
    "- elif可以有很多的分支\n",
    "- else可选\n",
    "- 多路分支只会选一个执行"
   ]
  },
  {
   "cell_type": "code",
   "execution_count": 36,
   "metadata": {},
   "outputs": [
    {
     "name": "stdout",
     "output_type": "stream",
     "text": [
      "请输入考试成绩：79\n",
      "不是优秀\n"
     ]
    }
   ],
   "source": [
    "# 考试成绩\n",
    "#９０以上：输出优秀\n",
    "# 90以下：不优秀\n",
    "#　input的返回值类型，一定是str\n",
    "score = input(\"请输入考试成绩：\")\n",
    "#把str转换成int\n",
    "#强制转型\n",
    "score = int(score)\n",
    "if score >= 90:\n",
    "    print(\"优秀\")\n",
    "elif score >= 80:\n",
    "    print(\"良好\")\n",
    "else:\n",
    "    print(\"不是优秀\")\n"
   ]
  },
  {
   "cell_type": "markdown",
   "metadata": {},
   "source": [
    "## if语句其他：\n",
    "- if语句可以嵌套使用，但不推荐\n",
    "- python没有switch-case语句"
   ]
  },
  {
   "cell_type": "markdown",
   "metadata": {},
   "source": [
    "# 循环语句\n",
    "- 重复执行某些固定动作或者处理基本固定的事物\n",
    "- 分类\n",
    "    - for\n",
    "    - while\n",
    "## for循环\n",
    "- for循环\n",
    "            \n",
    "            for 变量　in 序列:\n",
    "                语句１\n",
    "                语句２\n",
    "                ....."
   ]
  },
  {
   "cell_type": "code",
   "execution_count": 38,
   "metadata": {},
   "outputs": [
    {
     "name": "stdout",
     "output_type": "stream",
     "text": [
      "张三\n",
      "李四\n",
      "王五\n",
      "python\n"
     ]
    }
   ],
   "source": [
    "# 列表就是一列数字或者其他的值，一般用中括号表示\n",
    "# 例如 [\"张三\",\"李四\",\"王五\"]\n",
    "\n",
    "for name in [\"张三\",\"李四\",\"王五\",\"python\"]:\n",
    "    print(name)"
   ]
  },
  {
   "cell_type": "code",
   "execution_count": 41,
   "metadata": {},
   "outputs": [
    {
     "name": "stdout",
     "output_type": "stream",
     "text": [
      "张三\n",
      "\n",
      "李四\n",
      "\n",
      "王五\n",
      "\n",
      "python\n",
      "i love python\n"
     ]
    }
   ],
   "source": [
    "# 如果打印出来的是python ,表示一下\n",
    "for name in [\"张三\",\"李四\",\"王五\",\"python\"]:\n",
    "    print(name)\n",
    "    if name == \"python\":\n",
    "        print(\"i love python\")\n",
    "    else:\n",
    "        print()#换行"
   ]
  },
  {
   "cell_type": "markdown",
   "metadata": {},
   "source": [
    "## range介绍\n",
    "- 生成一个数字序列\n",
    "- 具体范围可以设定"
   ]
  },
  {
   "cell_type": "code",
   "execution_count": 49,
   "metadata": {},
   "outputs": [
    {
     "name": "stdout",
     "output_type": "stream",
     "text": [
      "1 2 3 4 5 6 7 8 9 "
     ]
    }
   ],
   "source": [
    "# range练习\n",
    "# 打印１－１０\n",
    "#注意，一般在python中，如果由表示数字范围的俩个数，一般是包含左边数字不包含有变数字\n",
    "# randint是特例，他左右都包括\n",
    "#python2和python3 有严重区别\n",
    "for i in range(1,10):\n",
    "    print(i,end=\" \")"
   ]
  },
  {
   "cell_type": "markdown",
   "metadata": {},
   "source": [
    "## for-else语句\n",
    "- 当for循环的时候，会执行else语句\n",
    "- else语句是可选语句"
   ]
  },
  {
   "cell_type": "code",
   "execution_count": 51,
   "metadata": {},
   "outputs": [
    {
     "name": "stdout",
     "output_type": "stream",
     "text": [
      "张三\n",
      "\n",
      "李四\n",
      "\n",
      "王五\n",
      "\n",
      "python\n",
      "i love python\n",
      "hello world\n"
     ]
    }
   ],
   "source": [
    "for name in [\"张三\",\"李四\",\"王五\",\"python\"]:\n",
    "    print(name)\n",
    "    if name == \"python\":\n",
    "        print(\"i love python\")\n",
    "    else:\n",
    "        print()#换行\n",
    "else:\n",
    "    print(\"hello world\")"
   ]
  },
  {
   "cell_type": "markdown",
   "metadata": {},
   "source": [
    "## 循环之break.continue,pass\n",
    "- break:无条件结束整个循环，简称循环猝死\n",
    "- continue:无条件结束本次循环，从新进入下一轮循环\n",
    "- pass: 表示略过 通常来站位"
   ]
  },
  {
   "cell_type": "code",
   "execution_count": 52,
   "metadata": {},
   "outputs": [
    {
     "name": "stdout",
     "output_type": "stream",
     "text": [
      "0\n",
      "1\n",
      "2\n",
      "3\n",
      "4\n",
      "5\n",
      "6\n"
     ]
    }
   ],
   "source": [
    "# 在数字０－１０中，寻找数字８，一旦找到，打印出来，其余什么都不做\n",
    "# for 循环中变量表示：一般使用ｉ,k,m,n或者indx,idx,item之类\n",
    "# 在python中，如果循环变量名称不重要，可以用下划线_代替\n",
    "for i in range(11):\n",
    "    if i ==7:\n",
    "        break\n",
    "    else:\n",
    "        print(i)\n",
    "    "
   ]
  },
  {
   "cell_type": "code",
   "execution_count": 73,
   "metadata": {},
   "outputs": [
    {
     "name": "stdout",
     "output_type": "stream",
     "text": [
      "2\n",
      "4\n",
      "6\n",
      "8\n",
      "10\n"
     ]
    }
   ],
   "source": [
    "# 在数字０－１０中，寻找所有偶数，一旦找到，打印出来，奇数什么都不做\n",
    "# continue语句\n",
    "for i in range(1,11):\n",
    "    if i%2 ==1:\n",
    "        continue\n",
    "    else:\n",
    "        print(i)\n"
   ]
  },
  {
   "cell_type": "code",
   "execution_count": 75,
   "metadata": {},
   "outputs": [
    {
     "name": "stdout",
     "output_type": "stream",
     "text": [
      "2\n",
      "4\n",
      "6\n",
      "8\n",
      "10\n"
     ]
    }
   ],
   "source": [
    "# 在数字０－１０中，寻找所有偶数，一旦找到，打印出来，奇数什么都不做\n",
    "# continue语句 版本２\n",
    "for i in range(1,11):\n",
    "    if i%2 ==0:\n",
    "        print(i)\n"
   ]
  },
  {
   "cell_type": "code",
   "execution_count": 76,
   "metadata": {},
   "outputs": [
    {
     "name": "stdout",
     "output_type": "stream",
     "text": [
      "2\n",
      "4\n",
      "6\n",
      "8\n",
      "10\n"
     ]
    }
   ],
   "source": [
    "for i in range(1,11):\n",
    "    if i%2 ==1:\n",
    "        continue\n",
    "    print(i)"
   ]
  },
  {
   "cell_type": "code",
   "execution_count": 79,
   "metadata": {},
   "outputs": [
    {
     "name": "stdout",
     "output_type": "stream",
     "text": [
      "1\n",
      "1\n",
      "1\n",
      "1\n",
      "1\n",
      "1\n",
      "1\n",
      "1\n",
      "1\n",
      "1\n"
     ]
    }
   ],
   "source": [
    "# pass 例子，一般用于占位\n",
    "for i in range(1,11):\n",
    "    pass #只是占位\n",
    "    print(1)"
   ]
  },
  {
   "cell_type": "code",
   "execution_count": null,
   "metadata": {
    "collapsed": true
   },
   "outputs": [],
   "source": []
  },
  {
   "cell_type": "code",
   "execution_count": null,
   "metadata": {
    "collapsed": true
   },
   "outputs": [],
   "source": []
  },
  {
   "cell_type": "code",
   "execution_count": null,
   "metadata": {
    "collapsed": true
   },
   "outputs": [],
   "source": []
  },
  {
   "cell_type": "code",
   "execution_count": null,
   "metadata": {
    "collapsed": true
   },
   "outputs": [],
   "source": []
  },
  {
   "cell_type": "code",
   "execution_count": null,
   "metadata": {
    "collapsed": true
   },
   "outputs": [],
   "source": []
  }
 ],
 "metadata": {
  "kernelspec": {
   "display_name": "Python 3",
   "language": "python",
   "name": "python3"
  },
  "language_info": {
   "codemirror_mode": {
    "name": "ipython",
    "version": 3
   },
   "file_extension": ".py",
   "mimetype": "text/x-python",
   "name": "python",
   "nbconvert_exporter": "python",
   "pygments_lexer": "ipython3",
   "version": "3.6.3"
  }
 },
 "nbformat": 4,
 "nbformat_minor": 2
}
