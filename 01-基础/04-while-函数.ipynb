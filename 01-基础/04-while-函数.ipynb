{
 "cells": [
  {
   "cell_type": "markdown",
   "metadata": {},
   "source": [
    "# while循环\n",
    "- 一个循环语句\n",
    "- 表示当某条件成立的时候，就循环\n",
    "- 不知道具体循环次数，但能确定循环的成立条件的时候用ｗｈｉｌｅ循环\n",
    "- while语法:\n",
    "           while 条件表达式\n",
    "               　语句块\n",
    "                \n",
    "           ## 另外一种表达方法\n",
    "           while 条件表达式:\n",
    "               语句快１\n",
    "           else:\n",
    "               语句块２"
   ]
  },
  {
   "cell_type": "code",
   "execution_count": 2,
   "metadata": {},
   "outputs": [
    {
     "name": "stdout",
     "output_type": "stream",
     "text": [
      "第1年拿了106700.0块钱\n",
      "第2年拿了113848.9块钱\n",
      "第3年拿了121476.77629999998块钱\n",
      "第4年拿了129615.72031209998块钱\n",
      "第5年拿了138299.97357301068块钱\n",
      "第6年拿了147566.07180240238块钱\n",
      "第7年拿了157452.99861316333块钱\n",
      "第8年拿了168002.34952024528块钱\n",
      "第9年拿了179258.5069381017块钱\n",
      "第10年拿了191268.8269029545块钱\n",
      "第11年拿了204083.83830545243块钱\n"
     ]
    }
   ],
   "source": [
    "# 如果说年利率为6.7%，本利是每年翻滚，则多少年后本钱会翻倍\n",
    "benqian = 100000\n",
    "year = 0\n",
    "while benqian < 200000:\n",
    "    benqian = benqian * (1+0.067)\n",
    "    year += 1\n",
    "    print(\"第{0}年拿了{1}块钱\".format(year,benqian))"
   ]
  },
  {
   "cell_type": "code",
   "execution_count": 3,
   "metadata": {},
   "outputs": [
    {
     "name": "stdout",
     "output_type": "stream",
     "text": [
      "第1年拿了106700.0块钱\n",
      "第2年拿了113848.9块钱\n",
      "第3年拿了121476.77629999998块钱\n",
      "第4年拿了129615.72031209998块钱\n",
      "第5年拿了138299.97357301068块钱\n",
      "第6年拿了147566.07180240238块钱\n",
      "第7年拿了157452.99861316333块钱\n",
      "第8年拿了168002.34952024528块钱\n",
      "第9年拿了179258.5069381017块钱\n",
      "第10年拿了191268.8269029545块钱\n",
      "第11年拿了204083.83830545243块钱\n",
      "翻倍了\n"
     ]
    }
   ],
   "source": [
    "# 如果说年利率为6.7%，本利是每年翻滚，则多少年后本钱会翻倍\n",
    "# 如果拿到的钱翻倍，则用ｐｒｉｎｔ庆祝一下\n",
    "\n",
    "benqian = 100000\n",
    "year = 0\n",
    "while benqian < 200000:\n",
    "    benqian = benqian * (1+0.067)\n",
    "    year += 1\n",
    "    print(\"第{0}年拿了{1}块钱\".format(year,benqian))\n",
    "else:\n",
    "    print(\"翻倍了\")"
   ]
  },
  {
   "cell_type": "markdown",
   "metadata": {},
   "source": [
    "# 函数\n",
    "- 代码的一种组织形式\n",
    "- 一个函数一般完成一项特定的功能\n",
    "-　函数使用\n",
    "    - 函数需要定义\n",
    "    - 使用函数，俗称调用\n",
    "    "
   ]
  },
  {
   "cell_type": "code",
   "execution_count": 5,
   "metadata": {
    "collapsed": true
   },
   "outputs": [],
   "source": [
    "#　定义一个函数\n",
    "# 只是定义的话不会执行\n",
    "# 1.def关键字，后跟一个空格\n",
    "#2.函数名，自己定义，起名需要遵守命名规则，约定俗成，大驼峰命名只给类用\n",
    "#3.后面括号和冒号不能省，括号可以有参数\n",
    "#4.函数内所有代码缩进\n",
    "def func():\n",
    "    print(\"hello world\")"
   ]
  },
  {
   "cell_type": "code",
   "execution_count": 7,
   "metadata": {},
   "outputs": [
    {
     "name": "stdout",
     "output_type": "stream",
     "text": [
      "hello world\n"
     ]
    }
   ],
   "source": [
    "# 函数的调用\n",
    "# 直接函数名后面跟括号\n",
    "func()"
   ]
  },
  {
   "cell_type": "markdown",
   "metadata": {},
   "source": [
    "## 函数的参数和返回值\n",
    "- 参数：负责给函数传递一些必要的数据或者信息\n",
    "    - 形参(形式参数):在函数定义的时候用到的参数没有具体值，只是一个占位符，成为形参\n",
    "    - 实参(实际参数):在调用函数的时候输入的值\n",
    "- 返回值：函数执行结果\n",
    "    - 使用return关键字\n",
    "    - 如果没有return，默认返回一个None\n",
    "    - 函数一旦执行return语句，则无条件返回，即结束函数的执行"
   ]
  },
  {
   "cell_type": "code",
   "execution_count": 8,
   "metadata": {},
   "outputs": [
    {
     "name": "stdout",
     "output_type": "stream",
     "text": [
      "many,你好\n",
      "吃饭呀！\n"
     ]
    }
   ],
   "source": [
    "# 参数的定义和使用\n",
    "# 参数person,只是一个符号，代表的事调用的时候的某一个数据\n",
    "# 调用的时候，会用p的值代替函数中所有的person\n",
    "def hello(person):\n",
    "    print(\"{0},你好\".format(person))\n",
    "    print(\"吃饭呀！\")\n",
    "\n",
    "p = \"many\"\n",
    "hello(p)"
   ]
  },
  {
   "cell_type": "code",
   "execution_count": 1,
   "metadata": {},
   "outputs": [
    {
     "name": "stdout",
     "output_type": "stream",
     "text": [
      "many,你好\n",
      "吃饭呀！\n",
      "我已经和many打招呼了，但是many不理我\n"
     ]
    }
   ],
   "source": [
    "# return 基本使用\n",
    "# 函数打完之后返回一句话\n",
    "def hello(person):\n",
    "    print(\"{0},你好\".format(person))\n",
    "    \n",
    "    print(\"吃饭呀！\")\n",
    "\n",
    "    \n",
    "    return \"我已经和{0}打招呼了，但是{1}不理我\".format(person,person)\n",
    "p = \"many\"\n",
    "\n",
    "rst = hello(p)\n",
    "\n",
    "print(rst)"
   ]
  },
  {
   "cell_type": "code",
   "execution_count": 2,
   "metadata": {},
   "outputs": [
    {
     "name": "stdout",
     "output_type": "stream",
     "text": [
      "many,你好\n",
      "哈哈，我提前结束了,你好\n"
     ]
    },
    {
     "data": {
      "text/plain": [
       "'哈哈，我提前结束了'"
      ]
     },
     "execution_count": 2,
     "metadata": {},
     "output_type": "execute_result"
    }
   ],
   "source": [
    "# return 案例２\n",
    "def hello(person):\n",
    "    print(\"{0},你好\".format(person))\n",
    "    \n",
    "    return \"哈哈，我提前结束了\"\n",
    "    print(\"吃饭呀！\")\n",
    "\n",
    "    \n",
    "    return \"我已经和{0}打招呼了，但是{1}不理我\"\n",
    "    \n",
    "p = \"many\"\n",
    "rst = hello(p)\n",
    "hello(rst)"
   ]
  },
  {
   "cell_type": "code",
   "execution_count": 23,
   "metadata": {},
   "outputs": [
    {
     "name": "stdout",
     "output_type": "stream",
     "text": [
      "1---一行\n",
      "2---一行\n",
      "3---一行\n",
      "4---一行\n",
      "5---一行\n",
      "6---一行\n",
      "7---一行\n",
      "8---一行\n",
      "9---一行\n"
     ]
    }
   ],
   "source": [
    "# 九九乘法表\n",
    "\n",
    "for row in range(1,10):\n",
    "    # 打印一行\n",
    "    print(\"{0}---一行\".format(row))"
   ]
  },
  {
   "cell_type": "code",
   "execution_count": null,
   "metadata": {
    "collapsed": true
   },
   "outputs": [],
   "source": [
    "# 查找函数的帮助文档＃\n",
    "# 1.用help函数"
   ]
  },
  {
   "cell_type": "code",
   "execution_count": 29,
   "metadata": {},
   "outputs": [
    {
     "name": "stdout",
     "output_type": "stream",
     "text": [
      "Help on built-in function print in module builtins:\n",
      "\n",
      "print(...)\n",
      "    print(value, ..., sep=' ', end='\\n', file=sys.stdout, flush=False)\n",
      "    \n",
      "    Prints the values to a stream, or to sys.stdout by default.\n",
      "    Optional keyword arguments:\n",
      "    file:  a file-like object (stream); defaults to the current sys.stdout.\n",
      "    sep:   string inserted between values, default a space.\n",
      "    end:   string appended after the last value, default a newline.\n",
      "    flush: whether to forcibly flush the stream.\n",
      "\n"
     ]
    }
   ],
   "source": [
    "help(print)"
   ]
  },
  {
   "cell_type": "code",
   "execution_count": 3,
   "metadata": {},
   "outputs": [
    {
     "name": "stdout",
     "output_type": "stream",
     "text": [
      "\n",
      "2 \n",
      "3 6 \n",
      "4 8 12 \n",
      "5 10 15 20 \n",
      "6 12 18 24 30 \n",
      "7 14 21 28 35 42 \n",
      "8 16 24 32 40 48 56 \n",
      "9 18 27 36 45 54 63 72 \n"
     ]
    }
   ],
   "source": [
    "for row in range(1,10):\n",
    "    # 打印一行\n",
    "    for col in range(1,row):\n",
    "        #　print函数默认打印完毕之后换行\n",
    "        print(row*col,end=\" \")\n",
    "    print()"
   ]
  },
  {
   "cell_type": "code",
   "execution_count": 36,
   "metadata": {},
   "outputs": [
    {
     "name": "stdout",
     "output_type": "stream",
     "text": [
      "1 \n",
      "2 4 \n",
      "3 6 9 \n",
      "4 8 12 16 \n",
      "5 10 15 20 25 \n",
      "6 12 18 24 30 36 \n",
      "7 14 21 28 35 42 49 \n",
      "8 16 24 32 40 48 56 64 \n",
      "9 18 27 36 45 54 63 72 81 \n"
     ]
    }
   ],
   "source": [
    "# 定义一个函数，打印一行九九乘法表\n",
    "def printline(row):\n",
    "    for col in range(1,row+1):\n",
    "        #　print函数默认打印完毕之后换行\n",
    "        print(row*col,end=\" \")\n",
    "    print()\n",
    "for row in range(1,10):\n",
    "    printline(row)"
   ]
  },
  {
   "cell_type": "markdown",
   "metadata": {},
   "source": [
    "## 参数\n",
    "- 参考资料\n",
    "- python参考资料：headfirst  零基础入门学习python\n",
    "- 后期可以考虑腾讯公开免费看\n",
    "- 参数分类\n",
    "    - 普通参数\n",
    "    - 默认参数\n",
    "    - 关键字参数\n",
    "    - 收集参数"
   ]
  },
  {
   "cell_type": "markdown",
   "metadata": {},
   "source": [
    "## 普通参数\n",
    "- c参见上例\n",
    "- 定义的时候直接定义变量名\n",
    "- 调用的时候直接把变量或者值放入指定的位置\n",
    "\n",
    "            def 函数名(参数１，参数２...):\n",
    "                函数体\n",
    "                \n",
    "            # 调用\n",
    "            函数名(value1,value2....)\n",
    "            \n",
    "            # 调用的时候，具体值参考的是位置，按位置赋值"
   ]
  },
  {
   "cell_type": "markdown",
   "metadata": {},
   "source": [
    "## 默认参数\n",
    "- 形参带有默认值\n",
    "- 调用的时候，如果没有对应相应形参传值，则使用默认值\n",
    "\n",
    "            der func_name(p1=v1,p2=v2....)\n",
    "                func_block\n",
    "            \n",
    "            # 调用\n",
    "            func_name()\n",
    "            \n",
    "            # 调用２\n",
    "            value=1\n",
    "            value=2\n",
    "            func_name(value1,value2....)\n",
    "            \n",
    "            "
   ]
  },
  {
   "cell_type": "code",
   "execution_count": 42,
   "metadata": {
    "collapsed": true
   },
   "outputs": [],
   "source": [
    "# 默认参数示例\n",
    "# 报名小例子，需要知道学生的性别\n",
    "# 思路：\n",
    "# 学习程序员的一般来说都是男生，所以，报名的时候如果没有特别的指定，认为是男生\n",
    "\n",
    "def baoming(name,age,sex=\"male\"):\n",
    "    if sex == \"male\":\n",
    "        print(\"{0},今年{1}岁，他很棒！\".format(name,age))\n",
    "    else:\n",
    "        print(\"{0},今年{1}岁，ta很棒！\".format(name,age))\n",
    "\n"
   ]
  },
  {
   "cell_type": "code",
   "execution_count": 43,
   "metadata": {},
   "outputs": [
    {
     "name": "stdout",
     "output_type": "stream",
     "text": [
      "zhangsan,今年32岁，他很棒！\n",
      "xiaohong,今年18岁，ta很棒！\n"
     ]
    }
   ],
   "source": [
    "baoming(\"zhangsan\",32)\n",
    "baoming(\"xiaohong\",18,\"female\")"
   ]
  },
  {
   "cell_type": "code",
   "execution_count": null,
   "metadata": {
    "collapsed": true
   },
   "outputs": [],
   "source": []
  }
 ],
 "metadata": {
  "kernelspec": {
   "display_name": "Python 3",
   "language": "python",
   "name": "python3"
  },
  "language_info": {
   "codemirror_mode": {
    "name": "ipython",
    "version": 3
   },
   "file_extension": ".py",
   "mimetype": "text/x-python",
   "name": "python",
   "nbconvert_exporter": "python",
   "pygments_lexer": "ipython3",
   "version": "3.6.3"
  }
 },
 "nbformat": 4,
 "nbformat_minor": 2
}
