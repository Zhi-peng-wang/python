{
 "cells": [
  {
   "cell_type": "markdown",
   "metadata": {},
   "source": [
    "# 四类函数\n",
    "- 普通函数\n",
    "- 默认函数\n",
    "- 关键字函数\n",
    "- 收集函数\n"
   ]
  },
  {
   "cell_type": "markdown",
   "metadata": {},
   "source": [
    "## 关键字参数开始\n",
    "- 语法\n",
    "        def func(p1=v1,p2=v2....)\n",
    "            func_body\n",
    "            \n",
    "        调用函数：\n",
    "        func(p1=v1,p2=v2.....)\n",
    "        \n",
    "- 比较麻烦，但也有好处：\n",
    "    - 不容易混淆，一般实参和形参只是按照位置一一对应即可，容易出错\n",
    "    - 使用关键字参数，可以不考虑参数位置"
   ]
  },
  {
   "cell_type": "code",
   "execution_count": 4,
   "metadata": {},
   "outputs": [
    {
     "name": "stdout",
     "output_type": "stream",
     "text": [
      "i an student\n",
      "我叫张三,我叫18,我住上海\n"
     ]
    }
   ],
   "source": [
    "# 关键字参数使用示例1：\n",
    "def stu(name,age,addr):\n",
    "    print(\"i an student\")\n",
    "    print(\"我叫{0},我叫{1},我住{2}\".format(name,age,addr))\n",
    "    \n",
    "n = \"张三\"\n",
    "a = \"18\"\n",
    "addr = \"上海\"\n",
    "\n",
    "# 普通参数，只能按照位置传递，容易出错\n",
    "stu(n,a,addr)"
   ]
  },
  {
   "cell_type": "code",
   "execution_count": 6,
   "metadata": {},
   "outputs": [
    {
     "name": "stdout",
     "output_type": "stream",
     "text": [
      "i an student\n",
      "我叫张三,我叫18,我住上海\n"
     ]
    }
   ],
   "source": [
    "# 关键字参数使用示例２：\n",
    "def stu(name = \"none\",age = 0,addr = \"none\"):\n",
    "    print(\"i an student\")\n",
    "    print(\"我叫{0},我叫{1},我住{2}\".format(name,age,addr))\n",
    "    \n",
    "n = \"张三\"\n",
    "a = \"18\"\n",
    "addr = \"上海\"\n",
    "\n",
    "#　这样就是一一对应的关系\n",
    "stu(name = n, age = a, addr =addr)"
   ]
  },
  {
   "cell_type": "markdown",
   "metadata": {},
   "source": [
    "## 收集参数\n",
    "- 把没有位置，不能和定义时的参数位置相对应参数，放入一个特定的数据结构中\n",
    "- 语法\n",
    "            \n",
    "            def func(*args):\n",
    "                func_body\n",
    "                按照list使用方式访问args得到传入的参数\n",
    "                \n",
    "            调用：\n",
    "            func(p1,p2,p3...)\n",
    "- 参数名args不是必须这么写，但是，我们推荐直接使用args，约定俗成\n",
    "- 参数名args钱需要有星号\n",
    "- 收集参数可以和其他参数共存\n",
    "            \n",
    "            "
   ]
  },
  {
   "cell_type": "code",
   "execution_count": 3,
   "metadata": {},
   "outputs": [
    {
     "name": "stdout",
     "output_type": "stream",
     "text": [
      "大家好，我为大家简单自我介绍以下：\n",
      "<class 'tuple'>\n",
      "zhangsan 18 beijing \n",
      "大家好，我为大家简单自我介绍以下：\n",
      "<class 'tuple'>\n",
      "lishi \n"
     ]
    }
   ],
   "source": [
    "# 收集参数代码\n",
    "# 函数模拟一个学生进行一个自我介绍，但是内容具体不清楚\n",
    "# args把他看做一个list\n",
    "def stu( *args):\n",
    "    print(\"大家好，我为大家简单自我介绍以下：\")\n",
    "    # type 函数作用是检测变量的类型\n",
    "    print(type(args))\n",
    "    #需要进行遍历\n",
    "    for item in args:\n",
    "        print(item, end=\" \")\n",
    "    print()\n",
    "    \n",
    "stu(\"zhangsan\", 18, \"beijing\")\n",
    "stu(\"lishi\")"
   ]
  },
  {
   "cell_type": "code",
   "execution_count": 14,
   "metadata": {},
   "outputs": [
    {
     "name": "stdout",
     "output_type": "stream",
     "text": [
      "大家好，我为大家简单自我介绍以下：\n",
      "<class 'tuple'>\n",
      "\n"
     ]
    }
   ],
   "source": [
    "# 收集参数实例\n",
    "# 说明收集参数可以不带任何实参调用，此时收集参数为空tuple\n",
    "# tuple和list是兄弟俩个\n",
    "stu()"
   ]
  },
  {
   "cell_type": "code",
   "execution_count": 15,
   "metadata": {},
   "outputs": [
    {
     "ename": "TypeError",
     "evalue": "stu() got an unexpected keyword argument 'name'",
     "output_type": "error",
     "traceback": [
      "\u001b[0;31m---------------------------------------------------------------------------\u001b[0m",
      "\u001b[0;31mTypeError\u001b[0m                                 Traceback (most recent call last)",
      "\u001b[0;32m<ipython-input-15-8a4d15627038>\u001b[0m in \u001b[0;36m<module>\u001b[0;34m()\u001b[0m\n\u001b[1;32m      1\u001b[0m \u001b[0;31m# 如果使用关键字参数格式调用，会出现问题\u001b[0m\u001b[0;34m\u001b[0m\u001b[0;34m\u001b[0m\u001b[0m\n\u001b[0;32m----> 2\u001b[0;31m \u001b[0mstu\u001b[0m\u001b[0;34m(\u001b[0m\u001b[0mname\u001b[0m\u001b[0;34m=\u001b[0m\u001b[0;34m\"zhangsan\"\u001b[0m\u001b[0;34m)\u001b[0m\u001b[0;34m\u001b[0m\u001b[0m\n\u001b[0m",
      "\u001b[0;31mTypeError\u001b[0m: stu() got an unexpected keyword argument 'name'"
     ]
    }
   ],
   "source": [
    "# 如果使用关键字参数格式调用，会出现问题\n",
    "stu(name=\"zhangsan\")"
   ]
  },
  {
   "cell_type": "markdown",
   "metadata": {},
   "source": [
    "### 收集参数之关键字收集参数\n",
    "- 把关键字参数按字典格式存入收集参数\n",
    "-　语法\n",
    "        def func( **kwargs):\n",
    "            func_body\n",
    "            \n",
    "        调用：\n",
    "        func(p1=v1, p2=v2, p3=v3....)\n",
    "- kwargs一般约定俗成\n",
    "- 调用的时候，把多余的关键字参数放入kwagrs\n",
    "- 访问kwargs需要按字典格式访问"
   ]
  },
  {
   "cell_type": "code",
   "execution_count": 21,
   "metadata": {},
   "outputs": [
    {
     "name": "stdout",
     "output_type": "stream",
     "text": [
      "大家好，我为大家简单自我介绍以下：\n",
      "<class 'dict'>\n",
      "name --- zhangsan\n",
      "age --- 18\n",
      "addr --- bejing\n",
      "大家好，我为大家简单自我介绍以下：\n",
      "<class 'dict'>\n",
      "name --- lishi\n"
     ]
    }
   ],
   "source": [
    "# 收集参数案例\n",
    "# 自我介绍\n",
    "# 调用的时候需要使用关键字参数调用\n",
    "def stu( **kwargs):\n",
    "    # 在函数体内对于kwargs的使用不用带星号\n",
    "    print(\"大家好，我为大家简单自我介绍以下：\")\n",
    "    print(type(kwargs))\n",
    "    # 对于字典的访问，python2和python３ 有区别\n",
    "    # 对于字典的访问kwargs.items()\n",
    "    for k,v in kwargs.items():\n",
    "        print(k, \"---\", v)\n",
    "        \n",
    "        \n",
    "stu(name=\"zhangsan\", age=18, addr=\"bejing\")\n",
    "stu(name=\"lishi\")"
   ]
  },
  {
   "cell_type": "code",
   "execution_count": 22,
   "metadata": {},
   "outputs": [
    {
     "name": "stdout",
     "output_type": "stream",
     "text": [
      "大家好，我为大家简单自我介绍以下：\n",
      "<class 'dict'>\n"
     ]
    }
   ],
   "source": [
    "# 收集参数为空案例\n",
    "stu()"
   ]
  },
  {
   "cell_type": "markdown",
   "metadata": {},
   "source": [
    "### 收集参数混合调用的顺序问题\n",
    "- 收集函数，关键字函数，普通函数可以混合使用\n",
    "- 使用规则就是，普通参数和关键字参数有限\n",
    "- 定义的时候一般先找普通参数，关键字参数，收集参数，收集参数tuple,收集参数dict\n"
   ]
  },
  {
   "cell_type": "code",
   "execution_count": 9,
   "metadata": {},
   "outputs": [
    {
     "name": "stdout",
     "output_type": "stream",
     "text": [
      "hello 大家好\n",
      "我叫zhangsan,我今年18岁了！\n",
      "很遗憾，我没有爱好\n",
      "********************\n",
      "********************\n",
      "hello 大家好\n",
      "我叫zhangsan,我今年18岁了！\n",
      "我的爱好是python\n",
      "********************\n",
      "********************\n",
      "hello 大家好\n",
      "我叫zhangsan,我今年18岁了！\n",
      "我的爱好是python\n",
      "********************\n",
      "********************\n",
      "hobby2 --- lklkd\n",
      "hobby3 --- 听音乐\n"
     ]
    }
   ],
   "source": [
    "# 收集参数混合调用案例\n",
    "# stu模拟一个学生的自我介绍\n",
    "def stu(name, age,  hobby=\"没有\",*args,  **kwargs):\n",
    "    print(\"hello 大家好\")\n",
    "    print(\"我叫{0},我今年{1}岁了！\".format(name,age))\n",
    "    if hobby == \"没有\":\n",
    "        print(\"很遗憾，我没有爱好\")\n",
    "    else:\n",
    "        print(\"我的爱好是{0}\".format(hobby))\n",
    "    \n",
    "    print(\"*\"*20)\n",
    "    \n",
    "    for i in args:\n",
    "        print(i,end=\" \")\n",
    "    print(\"*\"*20)  \n",
    "    \n",
    "    for k,v in kwargs.items():\n",
    "        print(k,\"---\",v)\n",
    "        \n",
    "        \n",
    "#　开始调用函数\n",
    "name = \"zhangsan\"\n",
    "age = 18\n",
    "# 调用的不同的格式\n",
    "stu(name, age)\n",
    "\n",
    "stu(name, age, hobby=\"python\")\n",
    "\n",
    "stu(name, age, hobby=\"python\", hobby2=\"lklkd\",hobby3=\"听音乐\")"
   ]
  },
  {
   "cell_type": "markdown",
   "metadata": {},
   "source": [
    "### 收集参数的解包问题\n",
    "- 把参数放入list或者字典中，直接把list/dict中的值放入收集参数中\n",
    "- 语法：参照案例"
   ]
  },
  {
   "cell_type": "code",
   "execution_count": 36,
   "metadata": {},
   "outputs": [
    {
     "name": "stdout",
     "output_type": "stream",
     "text": [
      "====================\n",
      "<class 'list'>\n",
      "0\n",
      "[89, 98, 56, 54, 88, 56]\n",
      "====================\n",
      "<class 'int'>\n",
      "0\n",
      "89\n",
      "<class 'int'>\n",
      "1\n",
      "98\n",
      "<class 'int'>\n",
      "2\n",
      "56\n",
      "<class 'int'>\n",
      "3\n",
      "54\n",
      "<class 'int'>\n",
      "4\n",
      "88\n",
      "<class 'int'>\n",
      "5\n",
      "56\n"
     ]
    }
   ],
   "source": [
    "# 收集参数的问题\n",
    "\n",
    "def stu(*args):\n",
    "    print(\"=\"*20)\n",
    "    # n表示循环次数\n",
    "    # 主要用来调试\n",
    "    n = 0\n",
    "    for i in args:\n",
    "        print(type(i))\n",
    "        print(n)\n",
    "        n+=1\n",
    "        print(i)\n",
    "        \n",
    "l = [89,98,56,54,88,56]\n",
    "stu(l)\n",
    "# 此时，args的表示形式是字典内一个list类型的元素，即args=([89,98,56,54,88,56],)\n",
    "# 很显然跟我们最初的想法违背\n",
    "\n",
    "# 此时的调用，我们就需要解包符号，即调用的时候前面加一个星号\n",
    "stu(*l)"
   ]
  },
  {
   "cell_type": "markdown",
   "metadata": {},
   "source": [
    "## 返回值\n",
    "-　函数和过程的区别\n",
    "    - 有无返回值\n",
    "- 需要用return显示返回内容\n",
    "- 如果没有返回，则默认返回None\n",
    "- 推荐写法，无论有无返回值，最后都要以return结束"
   ]
  },
  {
   "cell_type": "code",
   "execution_count": 38,
   "metadata": {},
   "outputs": [
    {
     "name": "stdout",
     "output_type": "stream",
     "text": [
      "有返回值\n",
      "1\n",
      "没有返回值\n",
      "None\n"
     ]
    }
   ],
   "source": [
    "# 返回值示例\n",
    "def func_1():\n",
    "    print(\"有返回值\")\n",
    "    return 1\n",
    "def func_2():\n",
    "    print(\"没有返回值\")\n",
    "    \n",
    "f1 = func_1()\n",
    "print(f1)\n",
    "\n",
    "f2 = func_2()\n",
    "print(f2)"
   ]
  },
  {
   "cell_type": "markdown",
   "metadata": {},
   "source": [
    "# 函数文档\n",
    "- 函数的文档的作用是对当前函数提供使用相关的参考信息\n",
    "- 文档写法：\n",
    "    - 在函数内部开始的第一行使用三引号字符定义符\n",
    "    - 一般具有特定格式\n",
    "    - 参考案例\n",
    "- 文档查看\n",
    "    - 使用help函数，形如help(func)\n",
    "    - 使用——doc——,参考案例（此处为下滑线俩个）"
   ]
  },
  {
   "cell_type": "code",
   "execution_count": 41,
   "metadata": {
    "collapsed": true
   },
   "outputs": [],
   "source": [
    "# 文档案例\n",
    "# 函数stu是模拟一个学生的自我介绍的内容\n",
    "def func():\n",
    "    '''\n",
    "    1\n",
    "    2\n",
    "    '''\n",
    "    print(\"文档案例\")"
   ]
  },
  {
   "cell_type": "code",
   "execution_count": 45,
   "metadata": {},
   "outputs": [
    {
     "name": "stdout",
     "output_type": "stream",
     "text": [
      "Help on function func in module __main__:\n",
      "\n",
      "func()\n",
      "    1\n",
      "    2\n",
      "\n"
     ]
    },
    {
     "data": {
      "text/plain": [
       "'\\n    1\\n    2\\n    '"
      ]
     },
     "execution_count": 45,
     "metadata": {},
     "output_type": "execute_result"
    }
   ],
   "source": [
    "# 查看文档\n",
    "help(func)\n",
    "func.__doc__"
   ]
  },
  {
   "cell_type": "code",
   "execution_count": null,
   "metadata": {
    "collapsed": true
   },
   "outputs": [],
   "source": []
  }
 ],
 "metadata": {
  "kernelspec": {
   "display_name": "Python 3",
   "language": "python",
   "name": "python3"
  },
  "language_info": {
   "codemirror_mode": {
    "name": "ipython",
    "version": 3
   },
   "file_extension": ".py",
   "mimetype": "text/x-python",
   "name": "python",
   "nbconvert_exporter": "python",
   "pygments_lexer": "ipython3",
   "version": "3.6.3"
  }
 },
 "nbformat": 4,
 "nbformat_minor": 2
}
